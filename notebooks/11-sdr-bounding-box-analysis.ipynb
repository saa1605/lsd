{
 "cells": [
  {
   "cell_type": "code",
   "execution_count": 1,
   "metadata": {},
   "outputs": [],
   "source": [
    "import torch \n",
    "import matplotlib.pyplot as plt \n",
    "import numpy as np \n",
    "from tqdm import tqdm \n",
    "import json "
   ]
  },
  {
   "cell_type": "code",
   "execution_count": 2,
   "metadata": {},
   "outputs": [],
   "source": [
    "mode = 'dev'\n",
    "bounding_boxes = np.load(f'/data2/saaket/bounding_boxes/best_{mode}_boxes_perspective.npy')"
   ]
  },
  {
   "cell_type": "code",
   "execution_count": 3,
   "metadata": {},
   "outputs": [
    {
     "data": {
      "text/plain": [
       "(10736, 1000, 4)"
      ]
     },
     "execution_count": 3,
     "metadata": {},
     "output_type": "execute_result"
    }
   ],
   "source": [
    "bounding_boxes.shape"
   ]
  },
  {
   "cell_type": "code",
   "execution_count": 3,
   "metadata": {},
   "outputs": [],
   "source": [
    "good_boxes = []"
   ]
  },
  {
   "cell_type": "code",
   "execution_count": 6,
   "metadata": {},
   "outputs": [],
   "source": [
    "for box_in_pano in bounding_boxes:\n",
    "    for box in box_in_pano:\n",
    "        if compute_area(box) <= 120*120:\n",
    "            good_boxes.append(1)\n",
    "        else:\n",
    "            good_boxes.append(0)\n",
    "\n",
    "        "
   ]
  },
  {
   "cell_type": "code",
   "execution_count": null,
   "metadata": {},
   "outputs": [],
   "source": [
    "np.save('/data2/saaket/good_boxes_area_14400.npy', good_boxes)"
   ]
  },
  {
   "cell_type": "code",
   "execution_count": 5,
   "metadata": {},
   "outputs": [],
   "source": [
    "def compute_area(box):\n",
    "    x1, y1, x2, y2 = box\n",
    "    return (x2-x1)*(y2-y1)\n"
   ]
  },
  {
   "cell_type": "code",
   "execution_count": 4,
   "metadata": {},
   "outputs": [],
   "source": [
    "def compute_area_distribution(bounding_boxes):\n",
    "    areas = []\n",
    "    below_16 = []\n",
    "    for i in tqdm(range(len(bounding_boxes))):\n",
    "        for box in bounding_boxes[i]:\n",
    "            area = compute_area(box)\n",
    "            # print(\"BOX: \", area)\n",
    "            areas.append(area)\n",
    "            if area <= 1600:\n",
    "                below_16.append(area)\n",
    "\n",
    "    return areas, below_16\n"
   ]
  },
  {
   "cell_type": "code",
   "execution_count": 46,
   "metadata": {},
   "outputs": [
    {
     "name": "stderr",
     "output_type": "stream",
     "text": [
      "100%|██████████| 10736/10736 [00:30<00:00, 347.02it/s]\n"
     ]
    }
   ],
   "source": [
    "areas, below16 = compute_area_distribution(bounding_boxes)"
   ]
  },
  {
   "cell_type": "code",
   "execution_count": 49,
   "metadata": {},
   "outputs": [],
   "source": [
    "areas = np.array(areas)"
   ]
  },
  {
   "cell_type": "code",
   "execution_count": 50,
   "metadata": {},
   "outputs": [
    {
     "data": {
      "text/plain": [
       "7338305"
      ]
     },
     "execution_count": 50,
     "metadata": {},
     "output_type": "execute_result"
    }
   ],
   "source": [
    "len(areas[ areas < 6400])"
   ]
  },
  {
   "cell_type": "code",
   "execution_count": 52,
   "metadata": {},
   "outputs": [
    {
     "data": {
      "text/plain": [
       "77.5461997019374"
      ]
     },
     "execution_count": 52,
     "metadata": {},
     "output_type": "execute_result"
    }
   ],
   "source": [
    "(len(areas[areas < 14400]) / len(areas)) * 100 "
   ]
  },
  {
   "cell_type": "code",
   "execution_count": 38,
   "metadata": {},
   "outputs": [
    {
     "data": {
      "text/plain": [
       "[986, 868, 216, 2550, 132, 187, 120, 110, 208, 192]"
      ]
     },
     "execution_count": 38,
     "metadata": {},
     "output_type": "execute_result"
    }
   ],
   "source": [
    "areas[:10]"
   ]
  },
  {
   "cell_type": "code",
   "execution_count": 21,
   "metadata": {},
   "outputs": [
    {
     "data": {
      "text/plain": [
       "10736000"
      ]
     },
     "execution_count": 21,
     "metadata": {},
     "output_type": "execute_result"
    }
   ],
   "source": [
    "len(areas)"
   ]
  },
  {
   "cell_type": "code",
   "execution_count": 22,
   "metadata": {},
   "outputs": [
    {
     "data": {
      "text/plain": [
       "(array([8.7499e+04, 6.5070e+03, 2.8870e+03, 1.3630e+03, 8.1900e+02,\n",
       "        4.7600e+02, 2.5700e+02, 7.7000e+01, 7.3000e+01, 4.2000e+01]),\n",
       " array([     0.,  35236.,  70472., 105708., 140944., 176180., 211416.,\n",
       "        246652., 281888., 317124., 352360.]),\n",
       " <BarContainer object of 10 artists>)"
      ]
     },
     "execution_count": 22,
     "metadata": {},
     "output_type": "execute_result"
    },
    {
     "data": {
      "image/png": "[encoded data removed]",
      "text/plain": [
       "<Figure size 432x288 with 1 Axes>"
      ]
     },
     "metadata": {
      "needs_background": "light"
     },
     "output_type": "display_data"
    }
   ],
   "source": [
    "%matplotlib inline \n",
    "plt.hist(areas[:100000])"
   ]
  },
  {
   "cell_type": "code",
   "execution_count": 42,
   "metadata": {},
   "outputs": [
    {
     "data": {
      "text/plain": [
       "368000"
      ]
     },
     "execution_count": 42,
     "metadata": {},
     "output_type": "execute_result"
    }
   ],
   "source": [
    "max(areas)"
   ]
  },
  {
   "cell_type": "code",
   "execution_count": 44,
   "metadata": {},
   "outputs": [
    {
     "data": {
      "text/plain": [
       "(array([4.566e+03, 9.680e+02, 9.940e+02, 2.810e+02, 1.210e+02, 1.090e+02,\n",
       "        1.810e+02, 2.230e+02, 2.020e+02, 2.360e+02, 1.710e+02, 1.500e+02,\n",
       "        1.130e+02, 6.200e+01, 6.200e+01, 5.000e+01, 5.100e+01, 2.800e+01,\n",
       "        2.300e+01, 2.600e+01, 2.000e+01, 2.300e+01, 1.600e+01, 2.300e+01,\n",
       "        2.200e+01, 1.700e+01, 2.800e+01, 2.600e+01, 3.400e+01, 3.400e+01,\n",
       "        2.700e+01, 3.300e+01, 2.700e+01, 3.500e+01, 1.900e+01, 4.400e+01,\n",
       "        2.300e+01, 4.100e+01, 3.500e+01, 3.000e+01, 3.700e+01, 3.200e+01,\n",
       "        3.500e+01, 3.400e+01, 2.200e+01, 2.100e+01, 3.200e+01, 2.500e+01,\n",
       "        2.300e+01, 2.500e+01, 2.300e+01, 7.000e+00, 1.800e+01, 1.900e+01,\n",
       "        1.900e+01, 2.100e+01, 7.000e+00, 1.500e+01, 1.000e+01, 1.200e+01,\n",
       "        6.000e+00, 8.000e+00, 1.100e+01, 1.100e+01, 6.000e+00, 5.000e+00,\n",
       "        4.000e+00, 5.000e+00, 1.100e+01, 1.300e+01, 1.000e+01, 9.000e+00,\n",
       "        1.100e+01, 5.000e+00, 1.000e+00, 1.000e+01, 7.000e+00, 9.000e+00,\n",
       "        4.000e+00, 4.000e+00, 3.000e+00, 6.000e+00, 7.000e+00, 2.000e+00,\n",
       "        4.000e+00, 1.100e+01, 8.000e+00, 6.000e+00, 6.000e+00, 1.000e+01,\n",
       "        5.000e+00, 4.000e+00, 5.000e+00, 8.000e+00, 2.000e+00, 4.000e+00,\n",
       "        5.000e+00, 6.000e+00, 1.000e+00, 3.000e+00, 3.000e+00, 3.000e+00,\n",
       "        2.000e+00, 3.000e+00, 2.000e+00, 7.000e+00, 6.000e+00, 3.000e+00,\n",
       "        1.000e+00, 0.000e+00, 1.000e+00, 5.000e+00, 5.000e+00, 3.000e+00,\n",
       "        0.000e+00, 4.000e+00, 4.000e+00, 3.000e+00, 3.000e+00, 1.000e+00,\n",
       "        1.000e+00, 4.000e+00, 3.000e+00, 1.000e+00, 2.000e+00, 3.000e+00,\n",
       "        2.000e+00, 2.000e+00, 0.000e+00, 1.000e+00, 2.000e+00, 2.000e+00,\n",
       "        3.000e+00, 3.000e+00, 1.000e+00, 4.000e+00, 2.000e+00, 0.000e+00,\n",
       "        4.000e+00, 3.000e+00, 0.000e+00, 0.000e+00, 1.000e+00, 2.000e+00,\n",
       "        1.000e+00, 2.000e+00, 1.000e+00, 0.000e+00, 3.000e+00, 1.000e+00,\n",
       "        1.000e+00, 0.000e+00, 0.000e+00, 0.000e+00, 0.000e+00, 0.000e+00,\n",
       "        0.000e+00, 1.000e+00, 1.000e+00, 1.000e+00, 0.000e+00, 0.000e+00,\n",
       "        0.000e+00, 0.000e+00, 0.000e+00, 1.000e+00, 0.000e+00, 0.000e+00,\n",
       "        1.000e+00, 1.000e+00, 0.000e+00, 0.000e+00, 1.000e+00, 0.000e+00,\n",
       "        0.000e+00, 1.000e+00, 0.000e+00, 0.000e+00, 0.000e+00, 0.000e+00,\n",
       "        0.000e+00, 0.000e+00, 0.000e+00, 1.000e+00, 1.000e+00, 0.000e+00,\n",
       "        0.000e+00, 0.000e+00, 1.000e+00, 0.000e+00, 0.000e+00, 0.000e+00,\n",
       "        0.000e+00, 0.000e+00, 1.000e+00, 0.000e+00, 0.000e+00, 2.000e+00,\n",
       "        1.000e+00, 0.000e+00, 0.000e+00, 1.000e+00, 1.000e+00, 0.000e+00,\n",
       "        0.000e+00, 0.000e+00, 1.000e+00, 0.000e+00, 0.000e+00, 1.000e+00]),\n",
       " array([     0,   1600,   3200,   4800,   6400,   8000,   9600,  11200,\n",
       "         12800,  14400,  16000,  17600,  19200,  20800,  22400,  24000,\n",
       "         25600,  27200,  28800,  30400,  32000,  33600,  35200,  36800,\n",
       "         38400,  40000,  41600,  43200,  44800,  46400,  48000,  49600,\n",
       "         51200,  52800,  54400,  56000,  57600,  59200,  60800,  62400,\n",
       "         64000,  65600,  67200,  68800,  70400,  72000,  73600,  75200,\n",
       "         76800,  78400,  80000,  81600,  83200,  84800,  86400,  88000,\n",
       "         89600,  91200,  92800,  94400,  96000,  97600,  99200, 100800,\n",
       "        102400, 104000, 105600, 107200, 108800, 110400, 112000, 113600,\n",
       "        115200, 116800, 118400, 120000, 121600, 123200, 124800, 126400,\n",
       "        128000, 129600, 131200, 132800, 134400, 136000, 137600, 139200,\n",
       "        140800, 142400, 144000, 145600, 147200, 148800, 150400, 152000,\n",
       "        153600, 155200, 156800, 158400, 160000, 161600, 163200, 164800,\n",
       "        166400, 168000, 169600, 171200, 172800, 174400, 176000, 177600,\n",
       "        179200, 180800, 182400, 184000, 185600, 187200, 188800, 190400,\n",
       "        192000, 193600, 195200, 196800, 198400, 200000, 201600, 203200,\n",
       "        204800, 206400, 208000, 209600, 211200, 212800, 214400, 216000,\n",
       "        217600, 219200, 220800, 222400, 224000, 225600, 227200, 228800,\n",
       "        230400, 232000, 233600, 235200, 236800, 238400, 240000, 241600,\n",
       "        243200, 244800, 246400, 248000, 249600, 251200, 252800, 254400,\n",
       "        256000, 257600, 259200, 260800, 262400, 264000, 265600, 267200,\n",
       "        268800, 270400, 272000, 273600, 275200, 276800, 278400, 280000,\n",
       "        281600, 283200, 284800, 286400, 288000, 289600, 291200, 292800,\n",
       "        294400, 296000, 297600, 299200, 300800, 302400, 304000, 305600,\n",
       "        307200, 308800, 310400, 312000, 313600, 315200, 316800, 318400,\n",
       "        320000, 321600, 323200, 324800, 326400, 328000, 329600, 331200,\n",
       "        332800, 334400, 336000]),\n",
       " <BarContainer object of 210 artists>)"
      ]
     },
     "execution_count": 44,
     "metadata": {},
     "output_type": "execute_result"
    },
    {
     "data": {
      "image/png": "[encoded data removed]",
      "text/plain": [
       "<Figure size 432x288 with 1 Axes>"
      ]
     },
     "metadata": {
      "needs_background": "light"
     },
     "output_type": "display_data"
    }
   ],
   "source": [
    "%matplotlib inline \n",
    "data = areas[:10000]\n",
    "binwidth = 1600\n",
    "plt.hist(data, bins=range(min(areas), max(data) + binwidth, binwidth))"
   ]
  },
  {
   "cell_type": "code",
   "execution_count": 5,
   "metadata": {},
   "outputs": [],
   "source": [
    "annotations = np.load(f'/data2/saaket/annotations_{mode}_perspective.npy', allow_pickle=True)"
   ]
  },
  {
   "cell_type": "code",
   "execution_count": 67,
   "metadata": {},
   "outputs": [],
   "source": [
    "def compute_area_distribution_annotations(bounding_boxes):\n",
    "    areas = []\n",
    "    for i in range(len(annotations)):\n",
    "        for annotation in annotations[i]:\n",
    "            slice, box = annotation \n",
    "            area = compute_area(box)\n",
    "            areas.append(area)\n",
    "            \n",
    "    return np.array(areas)\n",
    "\n"
   ]
  },
  {
   "cell_type": "code",
   "execution_count": 68,
   "metadata": {},
   "outputs": [],
   "source": [
    "ann_areas = compute_area_distribution_annotations(annotations)"
   ]
  },
  {
   "cell_type": "code",
   "execution_count": 74,
   "metadata": {},
   "outputs": [
    {
     "data": {
      "text/plain": [
       "0.45769356419470764"
      ]
     },
     "execution_count": 74,
     "metadata": {},
     "output_type": "execute_result"
    }
   ],
   "source": [
    "(len(ann_areas[ann_areas > 20000]) / len(ann_areas))"
   ]
  },
  {
   "cell_type": "code",
   "execution_count": 7,
   "metadata": {},
   "outputs": [],
   "source": [
    "targets_array = np.load(f'/data1/saaket/lsd_data/data/processed/sdr_{mode}_perspective_targets_x_y.npy', allow_pickle=True)\n",
    "def touchdown_loader(data_path):\n",
    "    texts, panoids, targets = [], [], []\n",
    "    with open(data_path) as f:\n",
    "        for idx, line in enumerate(f):\n",
    "            obj = json.loads(line)\n",
    "            center = json.loads(obj['main_static_center'])\n",
    "            panoids.append(obj['main_pano'])\n",
    "            texts.append(obj['td_location_text'])\n",
    "            targets.append(targets_array[idx][obj['main_pano']])\n",
    "    return texts, panoids, targets "
   ]
  },
  {
   "cell_type": "code",
   "execution_count": 8,
   "metadata": {},
   "outputs": [],
   "source": [
    "texts, panoids, targets = touchdown_loader('/data1/saaket/touchdown/data/dev.json')"
   ]
  },
  {
   "cell_type": "code",
   "execution_count": 10,
   "metadata": {},
   "outputs": [
    {
     "data": {
      "text/plain": [
       "(1391, 1391)"
      ]
     },
     "execution_count": 10,
     "metadata": {},
     "output_type": "execute_result"
    }
   ],
   "source": [
    "len(targets), len(annotations)"
   ]
  },
  {
   "cell_type": "code",
   "execution_count": 28,
   "metadata": {},
   "outputs": [],
   "source": [
    "def dist_function(target_slice, target_x, target_y, box_slice, box):\n",
    "    x1, y1, x2, y2 = box \n",
    "\n",
    "    cx = (x1 + x2) / 2\n",
    "    cy = (y1 + y2) / 2 \n",
    "    WIDTH = 460 \n",
    "    HEIGHT = 800 \n",
    "    print(\"Target Slice: \", target_slice)\n",
    "    print(\"Box Slice: \", box_slice)\n",
    "    print(\"target_x: \", target_x)\n",
    "    print(\"cx: \", cx)\n",
    "    print(\"target_y: \", target_y)\n",
    "    print(\"cy: \", cy)\n",
    "    if target_slice > box_slice:\n",
    "        x = (WIDTH - cx) + WIDTH*(target_slice-box_slice) + (target_x)\n",
    "    elif target_slice < box_slice:\n",
    "        x = (WIDTH - target_x) + WIDTH*(box_slice-target_slice) + cx\n",
    "    else:\n",
    "        x = cx - target_x \n",
    "    print(x)\n",
    "    y = cy - target_y \n",
    "    return np.sqrt(x**2 + y**2)\n",
    "    "
   ]
  },
  {
   "cell_type": "code",
   "execution_count": 29,
   "metadata": {},
   "outputs": [],
   "source": [
    "def distance_from_touchdown(targets, annotations):\n",
    "    dist_from_touchdown = []\n",
    "    for idx, annotation in enumerate(annotations):\n",
    "        target_slice, target_x, target_y = targets[idx]\n",
    "        for slice_and_box in annotation:\n",
    "            slice_id, box = slice_and_box \n",
    "            \n",
    "            print(dist_function(target_slice, target_x, target_y, slice_id, box))\n",
    "            return \n"
   ]
  },
  {
   "cell_type": "code",
   "execution_count": 30,
   "metadata": {},
   "outputs": [
    {
     "name": "stdout",
     "output_type": "stream",
     "text": [
      "Target Slice:  3\n",
      "Box Slice:  2\n",
      "target_x:  241\n",
      "cx:  93.5\n",
      "target_y:  488\n",
      "cy:  450.5\n",
      "1067.5\n",
      "1068.1584620270535\n"
     ]
    }
   ],
   "source": [
    "distance_from_touchdown(targets, annotations)"
   ]
  },
  {
   "cell_type": "code",
   "execution_count": 24,
   "metadata": {},
   "outputs": [
    {
     "data": {
      "text/plain": [
       "655.7936032014951"
      ]
     },
     "execution_count": 24,
     "metadata": {},
     "output_type": "execute_result"
    }
   ],
   "source": [
    "np.sqrt(607.5**2 + (488-241)**2)"
   ]
  },
  {
   "cell_type": "code",
   "execution_count": null,
   "metadata": {},
   "outputs": [],
   "source": []
  }
 ],
 "metadata": {
  "kernelspec": {
   "display_name": "Python 3.9.12 ('lsd')",
   "language": "python",
   "name": "python3"
  },
  "language_info": {
   "codemirror_mode": {
    "name": "ipython",
    "version": 3
   },
   "file_extension": ".py",
   "mimetype": "text/x-python",
   "name": "python",
   "nbconvert_exporter": "python",
   "pygments_lexer": "ipython3",
   "version": "3.9.12 (main, Jun  1 2022, 11:38:51) \n[GCC 7.5.0]"
  },
  "orig_nbformat": 4,
  "vscode": {
   "interpreter": {
    "hash": "e4e06f6842ee7bd8154249031dc1b1c84e7ea7e1338ffd5a08ca6577e7e87954"
   }
  }
 },
 "nbformat": 4,
 "nbformat_minor": 2
}
