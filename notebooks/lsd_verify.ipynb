{
 "cells": [
  {
   "cell_type": "code",
   "execution_count": 1,
   "metadata": {},
   "outputs": [],
   "source": [
    "import torch "
   ]
  },
  {
   "cell_type": "code",
   "execution_count": 2,
   "metadata": {},
   "outputs": [],
   "source": [
    "data = torch.load('/data1/saaket/lsd_data/data/processed/conventional/best_bbox_arr_train_augmented_one_utterance_all_floors.pt')"
   ]
  },
  {
   "cell_type": "code",
   "execution_count": 2,
   "metadata": {},
   "outputs": [],
   "source": [
    "data2 = torch.load('/data1/saaket/lsd_data/data/processed/conventional/best_bbox_arr_train_one_utterance_all_floors.pt')"
   ]
  },
  {
   "cell_type": "code",
   "execution_count": 4,
   "metadata": {},
   "outputs": [
    {
     "data": {
      "text/plain": [
       "{0: [(0,\n",
       "   'I am on a landing of a staircase. In the room is a pool table and fireplace with a high back pink chair near the fireplace.',\n",
       "   array([374, 318, 454, 463], dtype=int32)),\n",
       "  (2,\n",
       "   \"No. It's a billiard/pool table on the rug. There is a large plant next to the door. I'm on the landing of the staircase.\",\n",
       "   array([584, 306, 739, 379], dtype=int32))],\n",
       " 2: [(1,\n",
       "   \"It's a pool table. Under the pool table is a floral/patterned rug. There is also a white couch on the other side of the room under a window.\",\n",
       "   array([527, 264, 751, 387], dtype=int32))]}"
      ]
     },
     "execution_count": 4,
     "metadata": {},
     "output_type": "execute_result"
    }
   ],
   "source": [
    "data2[2]['floors']"
   ]
  },
  {
   "cell_type": "code",
   "execution_count": 16,
   "metadata": {},
   "outputs": [
    {
     "data": {
      "text/plain": [
       "{0: [(0,\n",
       "   'I am on a landing of a staircase. In the room is a pool table and fireplace with a high back pink chair near the fireplace.',\n",
       "   array([374, 318, 454, 463], dtype=int32))]}"
      ]
     },
     "execution_count": 16,
     "metadata": {},
     "output_type": "execute_result"
    }
   ],
   "source": [
    "data[2]['floors']"
   ]
  },
  {
   "cell_type": "code",
   "execution_count": 13,
   "metadata": {},
   "outputs": [
    {
     "data": {
      "text/plain": [
       "{1: [(0,\n",
       "   'Look for a white couch next to a rug with square patterns that are blue black and white.',\n",
       "   array([495, 351, 557, 426], dtype=int32))],\n",
       " 0: [(1,\n",
       "   'Put me in the middle of the rug.',\n",
       "   array([538, 286, 658, 411], dtype=int32))]}"
      ]
     },
     "execution_count": 13,
     "metadata": {},
     "output_type": "execute_result"
    }
   ],
   "source": [
    "data2[0]['floors']"
   ]
  },
  {
   "cell_type": "code",
   "execution_count": null,
   "metadata": {},
   "outputs": [],
   "source": []
  }
 ],
 "metadata": {
  "kernelspec": {
   "display_name": "lsd",
   "language": "python",
   "name": "python3"
  },
  "language_info": {
   "codemirror_mode": {
    "name": "ipython",
    "version": 3
   },
   "file_extension": ".py",
   "mimetype": "text/x-python",
   "name": "python",
   "nbconvert_exporter": "python",
   "pygments_lexer": "ipython3",
   "version": "3.9.12"
  },
  "orig_nbformat": 4,
  "vscode": {
   "interpreter": {
    "hash": "e4e06f6842ee7bd8154249031dc1b1c84e7ea7e1338ffd5a08ca6577e7e87954"
   }
  }
 },
 "nbformat": 4,
 "nbformat_minor": 2
}
